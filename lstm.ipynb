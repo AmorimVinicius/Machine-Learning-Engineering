{
 "cells": [
  {
   "cell_type": "markdown",
   "metadata": {},
   "source": [
    "## 1. Importar bibliotecas"
   ]
  },
  {
   "cell_type": "code",
   "execution_count": 15,
   "metadata": {},
   "outputs": [],
   "source": [
    "# Importar bibliotecas\n",
    "import yfinance as yf\n",
    "import pandas as pd\n",
    "import numpy as np\n",
    "import tensorflow as tf\n",
    "import matplotlib.pyplot as plt\n",
    "from datetime import date\n",
    "from sklearn.preprocessing import MinMaxScaler\n",
    "from tensorflow.keras.models import Sequential\n",
    "from tensorflow.keras.layers import LSTM, Dense, Dropout\n",
    "from sklearn.metrics import mean_absolute_error, mean_squared_error"
   ]
  },
  {
   "cell_type": "markdown",
   "metadata": {},
   "source": [
    "## 2. Coletar dados"
   ]
  },
  {
   "cell_type": "code",
   "execution_count": 2,
   "metadata": {},
   "outputs": [],
   "source": [
    "# Ticker da empresa\n",
    "ticker = 'VALE3.SA'\n",
    "start_date = '2024-01-01'\n",
    "end_date = date.today()"
   ]
  },
  {
   "cell_type": "code",
   "execution_count": 3,
   "metadata": {},
   "outputs": [
    {
     "name": "stderr",
     "output_type": "stream",
     "text": [
      "[*********************100%***********************]  1 of 1 completed\n"
     ]
    },
    {
     "data": {
      "text/html": [
       "<div>\n",
       "<style scoped>\n",
       "    .dataframe tbody tr th:only-of-type {\n",
       "        vertical-align: middle;\n",
       "    }\n",
       "\n",
       "    .dataframe tbody tr th {\n",
       "        vertical-align: top;\n",
       "    }\n",
       "\n",
       "    .dataframe thead th {\n",
       "        text-align: right;\n",
       "    }\n",
       "</style>\n",
       "<table border=\"1\" class=\"dataframe\">\n",
       "  <thead>\n",
       "    <tr style=\"text-align: right;\">\n",
       "      <th></th>\n",
       "      <th>Open</th>\n",
       "      <th>High</th>\n",
       "      <th>Low</th>\n",
       "      <th>Close</th>\n",
       "      <th>Adj Close</th>\n",
       "      <th>Volume</th>\n",
       "    </tr>\n",
       "    <tr>\n",
       "      <th>Date</th>\n",
       "      <th></th>\n",
       "      <th></th>\n",
       "      <th></th>\n",
       "      <th></th>\n",
       "      <th></th>\n",
       "      <th></th>\n",
       "    </tr>\n",
       "  </thead>\n",
       "  <tbody>\n",
       "    <tr>\n",
       "      <th>2024-01-02</th>\n",
       "      <td>77.599998</td>\n",
       "      <td>78.180000</td>\n",
       "      <td>76.589996</td>\n",
       "      <td>77.050003</td>\n",
       "      <td>71.151764</td>\n",
       "      <td>18021800</td>\n",
       "    </tr>\n",
       "    <tr>\n",
       "      <th>2024-01-03</th>\n",
       "      <td>76.709999</td>\n",
       "      <td>76.900002</td>\n",
       "      <td>75.849998</td>\n",
       "      <td>76.650002</td>\n",
       "      <td>70.782379</td>\n",
       "      <td>25315100</td>\n",
       "    </tr>\n",
       "    <tr>\n",
       "      <th>2024-01-04</th>\n",
       "      <td>76.430000</td>\n",
       "      <td>76.639999</td>\n",
       "      <td>75.360001</td>\n",
       "      <td>75.620003</td>\n",
       "      <td>69.831230</td>\n",
       "      <td>18707000</td>\n",
       "    </tr>\n",
       "    <tr>\n",
       "      <th>2024-01-05</th>\n",
       "      <td>75.029999</td>\n",
       "      <td>75.050003</td>\n",
       "      <td>74.120003</td>\n",
       "      <td>74.650002</td>\n",
       "      <td>68.935486</td>\n",
       "      <td>21082500</td>\n",
       "    </tr>\n",
       "    <tr>\n",
       "      <th>2024-01-08</th>\n",
       "      <td>73.940002</td>\n",
       "      <td>74.559998</td>\n",
       "      <td>73.510002</td>\n",
       "      <td>74.269997</td>\n",
       "      <td>68.584572</td>\n",
       "      <td>23013300</td>\n",
       "    </tr>\n",
       "  </tbody>\n",
       "</table>\n",
       "</div>"
      ],
      "text/plain": [
       "                 Open       High        Low      Close  Adj Close    Volume\n",
       "Date                                                                       \n",
       "2024-01-02  77.599998  78.180000  76.589996  77.050003  71.151764  18021800\n",
       "2024-01-03  76.709999  76.900002  75.849998  76.650002  70.782379  25315100\n",
       "2024-01-04  76.430000  76.639999  75.360001  75.620003  69.831230  18707000\n",
       "2024-01-05  75.029999  75.050003  74.120003  74.650002  68.935486  21082500\n",
       "2024-01-08  73.940002  74.559998  73.510002  74.269997  68.584572  23013300"
      ]
     },
     "execution_count": 3,
     "metadata": {},
     "output_type": "execute_result"
    }
   ],
   "source": [
    "# Baixar dados históricos de preço\n",
    "df = yf.download(ticker, start=start_date, end=end_date)\n",
    "df.head()"
   ]
  },
  {
   "cell_type": "markdown",
   "metadata": {},
   "source": [
    "## 3. Processar dados"
   ]
  },
  {
   "cell_type": "code",
   "execution_count": 4,
   "metadata": {},
   "outputs": [],
   "source": [
    "# Tratar valores ausentes\n",
    "df = df.dropna()"
   ]
  },
  {
   "cell_type": "code",
   "execution_count": 5,
   "metadata": {},
   "outputs": [],
   "source": [
    "# Setar variáveis\n",
    "feature = df['Close']"
   ]
  },
  {
   "cell_type": "code",
   "execution_count": 6,
   "metadata": {},
   "outputs": [],
   "source": [
    "# Criação de features para médias móveis\n",
    "df['SMA_10'] = feature.rolling(window = 10).mean()\n",
    "df['SMA_50'] = feature.rolling(window = 50).mean()\n",
    "df['SMA_200'] = feature.rolling(window = 200).mean()"
   ]
  },
  {
   "cell_type": "code",
   "execution_count": 7,
   "metadata": {},
   "outputs": [
    {
     "data": {
      "text/html": [
       "<div>\n",
       "<style scoped>\n",
       "    .dataframe tbody tr th:only-of-type {\n",
       "        vertical-align: middle;\n",
       "    }\n",
       "\n",
       "    .dataframe tbody tr th {\n",
       "        vertical-align: top;\n",
       "    }\n",
       "\n",
       "    .dataframe thead th {\n",
       "        text-align: right;\n",
       "    }\n",
       "</style>\n",
       "<table border=\"1\" class=\"dataframe\">\n",
       "  <thead>\n",
       "    <tr style=\"text-align: right;\">\n",
       "      <th></th>\n",
       "      <th>Open</th>\n",
       "      <th>High</th>\n",
       "      <th>Low</th>\n",
       "      <th>Close</th>\n",
       "      <th>Adj Close</th>\n",
       "      <th>Volume</th>\n",
       "      <th>SMA_10</th>\n",
       "      <th>SMA_50</th>\n",
       "      <th>SMA_200</th>\n",
       "    </tr>\n",
       "    <tr>\n",
       "      <th>Date</th>\n",
       "      <th></th>\n",
       "      <th></th>\n",
       "      <th></th>\n",
       "      <th></th>\n",
       "      <th></th>\n",
       "      <th></th>\n",
       "      <th></th>\n",
       "      <th></th>\n",
       "      <th></th>\n",
       "    </tr>\n",
       "  </thead>\n",
       "  <tbody>\n",
       "    <tr>\n",
       "      <th>2024-01-02</th>\n",
       "      <td>77.599998</td>\n",
       "      <td>78.180000</td>\n",
       "      <td>76.589996</td>\n",
       "      <td>77.050003</td>\n",
       "      <td>71.151764</td>\n",
       "      <td>18021800</td>\n",
       "      <td>NaN</td>\n",
       "      <td>NaN</td>\n",
       "      <td>NaN</td>\n",
       "    </tr>\n",
       "    <tr>\n",
       "      <th>2024-01-03</th>\n",
       "      <td>76.709999</td>\n",
       "      <td>76.900002</td>\n",
       "      <td>75.849998</td>\n",
       "      <td>76.650002</td>\n",
       "      <td>70.782379</td>\n",
       "      <td>25315100</td>\n",
       "      <td>NaN</td>\n",
       "      <td>NaN</td>\n",
       "      <td>NaN</td>\n",
       "    </tr>\n",
       "    <tr>\n",
       "      <th>2024-01-04</th>\n",
       "      <td>76.430000</td>\n",
       "      <td>76.639999</td>\n",
       "      <td>75.360001</td>\n",
       "      <td>75.620003</td>\n",
       "      <td>69.831230</td>\n",
       "      <td>18707000</td>\n",
       "      <td>NaN</td>\n",
       "      <td>NaN</td>\n",
       "      <td>NaN</td>\n",
       "    </tr>\n",
       "    <tr>\n",
       "      <th>2024-01-05</th>\n",
       "      <td>75.029999</td>\n",
       "      <td>75.050003</td>\n",
       "      <td>74.120003</td>\n",
       "      <td>74.650002</td>\n",
       "      <td>68.935486</td>\n",
       "      <td>21082500</td>\n",
       "      <td>NaN</td>\n",
       "      <td>NaN</td>\n",
       "      <td>NaN</td>\n",
       "    </tr>\n",
       "    <tr>\n",
       "      <th>2024-01-08</th>\n",
       "      <td>73.940002</td>\n",
       "      <td>74.559998</td>\n",
       "      <td>73.510002</td>\n",
       "      <td>74.269997</td>\n",
       "      <td>68.584572</td>\n",
       "      <td>23013300</td>\n",
       "      <td>NaN</td>\n",
       "      <td>NaN</td>\n",
       "      <td>NaN</td>\n",
       "    </tr>\n",
       "  </tbody>\n",
       "</table>\n",
       "</div>"
      ],
      "text/plain": [
       "                 Open       High        Low      Close  Adj Close    Volume  \\\n",
       "Date                                                                          \n",
       "2024-01-02  77.599998  78.180000  76.589996  77.050003  71.151764  18021800   \n",
       "2024-01-03  76.709999  76.900002  75.849998  76.650002  70.782379  25315100   \n",
       "2024-01-04  76.430000  76.639999  75.360001  75.620003  69.831230  18707000   \n",
       "2024-01-05  75.029999  75.050003  74.120003  74.650002  68.935486  21082500   \n",
       "2024-01-08  73.940002  74.559998  73.510002  74.269997  68.584572  23013300   \n",
       "\n",
       "            SMA_10  SMA_50  SMA_200  \n",
       "Date                                 \n",
       "2024-01-02     NaN     NaN      NaN  \n",
       "2024-01-03     NaN     NaN      NaN  \n",
       "2024-01-04     NaN     NaN      NaN  \n",
       "2024-01-05     NaN     NaN      NaN  \n",
       "2024-01-08     NaN     NaN      NaN  "
      ]
     },
     "execution_count": 7,
     "metadata": {},
     "output_type": "execute_result"
    }
   ],
   "source": [
    "df.head()"
   ]
  },
  {
   "cell_type": "code",
   "execution_count": 8,
   "metadata": {},
   "outputs": [
    {
     "data": {
      "text/plain": [
       "array([[1.        ],\n",
       "       [0.98099755],\n",
       "       [0.9320665 ],\n",
       "       [0.88598569],\n",
       "       [0.86793321],\n",
       "       [0.82327788],\n",
       "       [0.77102143],\n",
       "       [0.78907355],\n",
       "       [0.74536818],\n",
       "       [0.73871738],\n",
       "       [0.69453685],\n",
       "       [0.63420411],\n",
       "       [0.61757711],\n",
       "       [0.5748217 ],\n",
       "       [0.56057013],\n",
       "       [0.62707815],\n",
       "       [0.66033252],\n",
       "       [0.57862226],\n",
       "       [0.64133007],\n",
       "       [0.62565303],\n",
       "       [0.60712574],\n",
       "       [0.55866985],\n",
       "       [0.54394277],\n",
       "       [0.47885988],\n",
       "       [0.45178151],\n",
       "       [0.5068882 ],\n",
       "       [0.5130642 ],\n",
       "       [0.48503552],\n",
       "       [0.47125875],\n",
       "       [0.46175771],\n",
       "       [0.45178151],\n",
       "       [0.57007118],\n",
       "       [0.54584305],\n",
       "       [0.47553447],\n",
       "       [0.49928744],\n",
       "       [0.53301661],\n",
       "       [0.54061737],\n",
       "       [0.46318283],\n",
       "       [0.54536825],\n",
       "       [0.5102136 ],\n",
       "       [0.52209008],\n",
       "       [0.5168644 ],\n",
       "       [0.5097388 ],\n",
       "       [0.46793335],\n",
       "       [0.51068876],\n",
       "       [0.49976224],\n",
       "       [0.47553447],\n",
       "       [0.37814717],\n",
       "       [0.22992872],\n",
       "       [0.248456  ],\n",
       "       [0.21140143],\n",
       "       [0.17862222],\n",
       "       [0.23277914],\n",
       "       [0.2565321 ],\n",
       "       [0.27600953],\n",
       "       [0.26888356],\n",
       "       [0.2351544 ],\n",
       "       [0.22897857],\n",
       "       [0.19239899],\n",
       "       [0.21852721],\n",
       "       [0.22945374],\n",
       "       [0.24798102],\n",
       "       [0.28218517],\n",
       "       [0.23990492],\n",
       "       [0.20760087],\n",
       "       [0.17624696],\n",
       "       [0.3311164 ],\n",
       "       [0.31116381],\n",
       "       [0.26603314],\n",
       "       [0.27838479],\n",
       "       [0.26745844],\n",
       "       [0.28456061],\n",
       "       [0.2584322 ],\n",
       "       [0.29026127],\n",
       "       [0.30118761],\n",
       "       [0.34964368],\n",
       "       [0.34821856],\n",
       "       [0.32209016],\n",
       "       [0.35914491],\n",
       "       [0.29548695],\n",
       "       [0.29548695],\n",
       "       [0.37529693],\n",
       "       [0.34631828],\n",
       "       [0.37624689],\n",
       "       [0.37957247],\n",
       "       [0.38859853],\n",
       "       [0.40760098],\n",
       "       [0.37957247],\n",
       "       [0.40427558],\n",
       "       [0.39382421],\n",
       "       [0.41187634],\n",
       "       [0.40997606],\n",
       "       [0.40095018],\n",
       "       [0.42327802],\n",
       "       [0.4836104 ],\n",
       "       [0.48218528],\n",
       "       [0.47315903],\n",
       "       [0.44845611],\n",
       "       [0.42992882],\n",
       "       [0.43135394],\n",
       "       [0.44180531],\n",
       "       [0.37482177],\n",
       "       [0.34394302],\n",
       "       [0.34204274],\n",
       "       [0.27885977],\n",
       "       [0.24893116],\n",
       "       [0.20760087],\n",
       "       [0.24750586],\n",
       "       [0.20950115],\n",
       "       [0.24085506],\n",
       "       [0.23657952],\n",
       "       [0.19667453],\n",
       "       [0.22945374],\n",
       "       [0.21947735],\n",
       "       [0.20807603],\n",
       "       [0.22137763],\n",
       "       [0.23040369],\n",
       "       [0.2565321 ],\n",
       "       [0.22945374],\n",
       "       [0.23277914],\n",
       "       [0.22090265],\n",
       "       [0.2565321 ],\n",
       "       [0.26413304],\n",
       "       [0.29548695],\n",
       "       [0.33919232],\n",
       "       [0.32921612],\n",
       "       [0.38859853],\n",
       "       [0.37339665],\n",
       "       [0.36104501],\n",
       "       [0.33729204],\n",
       "       [0.33349166],\n",
       "       [0.29311151],\n",
       "       [0.28551057],\n",
       "       [0.32874096],\n",
       "       [0.33206654],\n",
       "       [0.30071263],\n",
       "       [0.27315911],\n",
       "       [0.24560558],\n",
       "       [0.24323032],\n",
       "       [0.23990492],\n",
       "       [0.20095007],\n",
       "       [0.21852721],\n",
       "       [0.21710209],\n",
       "       [0.2598575 ],\n",
       "       [0.26508318],\n",
       "       [0.20047509],\n",
       "       [0.26745844],\n",
       "       [0.20190021],\n",
       "       [0.16199522],\n",
       "       [0.04845607],\n",
       "       [0.06223284],\n",
       "       [0.05700715],\n",
       "       [0.04037997],\n",
       "       [0.05035635],\n",
       "       [0.03657959],\n",
       "       [0.02470311],\n",
       "       [0.        ],\n",
       "       [0.01092634],\n",
       "       [0.00380056],\n",
       "       [0.04655579],\n",
       "       [0.05700715],\n",
       "       [0.10926361],\n",
       "       [0.11306417],\n",
       "       [0.06650838],\n",
       "       [0.09738712],\n",
       "       [0.1805225 ],\n",
       "       [0.16009494],\n",
       "       [0.15676954],\n",
       "       [0.17007132],\n",
       "       [0.13016633],\n",
       "       [0.02612823],\n",
       "       [0.04703095],\n",
       "       [0.06650838],\n",
       "       [0.03230405],\n",
       "       [0.03230405],\n",
       "       [0.        ],\n",
       "       [0.07553444],\n",
       "       [0.10023754],\n",
       "       [0.11876483],\n",
       "       [0.11876483],\n",
       "       [0.10546323],\n",
       "       [0.07315918],\n",
       "       [0.10593821],\n",
       "       [0.06413293],\n",
       "       [0.07268402],\n",
       "       [0.20617575],\n",
       "       [0.21900237],\n",
       "       [0.39192393],\n",
       "       [0.37814717],\n",
       "       [0.35676946],\n",
       "       [0.37149637],\n",
       "       [0.38812337],\n",
       "       [0.3296911 ],\n",
       "       [0.30783841],\n",
       "       [0.33396664],\n",
       "       [0.24323032],\n",
       "       [0.23562938],\n",
       "       [0.24940614],\n",
       "       [0.29121141],\n",
       "       [0.28171019],\n",
       "       [0.24560558],\n",
       "       [0.30118761],\n",
       "       [0.22612815],\n",
       "       [0.21615195]])"
      ]
     },
     "execution_count": 8,
     "metadata": {},
     "output_type": "execute_result"
    }
   ],
   "source": [
    "# Normalizar os dados\n",
    "scaler = MinMaxScaler()\n",
    "df_scaled = scaler.fit_transform(df[['Close']])\n",
    "df_scaled"
   ]
  },
  {
   "cell_type": "markdown",
   "metadata": {},
   "source": [
    "## 4. Primeiros passos com LSTM"
   ]
  },
  {
   "cell_type": "code",
   "execution_count": 9,
   "metadata": {},
   "outputs": [],
   "source": [
    "# Séries temporais\n",
    "def create_serie(data, seq_length):\n",
    "    xs = []\n",
    "    ys = []\n",
    "    for i in range(len(data)-seq_length):\n",
    "        x = data[i:i+seq_length]\n",
    "        y = data[i+seq_length]\n",
    "        xs.append(np.array(x))\n",
    "        ys.append(np.array(y))\n",
    "    return np.array(xs), np.array(ys)\n",
    "\n",
    "SEQ_LENGTH = 50 # tamanha da série\n",
    "x, y = create_serie(df_scaled, SEQ_LENGTH)\n",
    "\n",
    "# Dividindo dados entre treino e teste\n",
    "split = int(0.8 * len(x))\n",
    "x_train, x_test = x[:split], x[split:]\n",
    "y_train, y_test = y[:split], y[split:] "
   ]
  },
  {
   "cell_type": "markdown",
   "metadata": {},
   "source": [
    "### 4.1 Construir modelo"
   ]
  },
  {
   "cell_type": "code",
   "execution_count": 11,
   "metadata": {},
   "outputs": [
    {
     "name": "stderr",
     "output_type": "stream",
     "text": [
      "c:\\Users\\55119\\AppData\\Local\\Programs\\Python\\Python312\\Lib\\site-packages\\keras\\src\\layers\\rnn\\rnn.py:204: UserWarning: Do not pass an `input_shape`/`input_dim` argument to a layer. When using Sequential models, prefer using an `Input(shape)` object as the first layer in the model instead.\n",
      "  super().__init__(**kwargs)\n"
     ]
    },
    {
     "data": {
      "text/html": [
       "<pre style=\"white-space:pre;overflow-x:auto;line-height:normal;font-family:Menlo,'DejaVu Sans Mono',consolas,'Courier New',monospace\"><span style=\"font-weight: bold\">Model: \"sequential_1\"</span>\n",
       "</pre>\n"
      ],
      "text/plain": [
       "\u001b[1mModel: \"sequential_1\"\u001b[0m\n"
      ]
     },
     "metadata": {},
     "output_type": "display_data"
    },
    {
     "data": {
      "text/html": [
       "<pre style=\"white-space:pre;overflow-x:auto;line-height:normal;font-family:Menlo,'DejaVu Sans Mono',consolas,'Courier New',monospace\">┏━━━━━━━━━━━━━━━━━━━━━━━━━━━━━━━━━┳━━━━━━━━━━━━━━━━━━━━━━━━┳━━━━━━━━━━━━━━━┓\n",
       "┃<span style=\"font-weight: bold\"> Layer (type)                    </span>┃<span style=\"font-weight: bold\"> Output Shape           </span>┃<span style=\"font-weight: bold\">       Param # </span>┃\n",
       "┡━━━━━━━━━━━━━━━━━━━━━━━━━━━━━━━━━╇━━━━━━━━━━━━━━━━━━━━━━━━╇━━━━━━━━━━━━━━━┩\n",
       "│ lstm_2 (<span style=\"color: #0087ff; text-decoration-color: #0087ff\">LSTM</span>)                   │ (<span style=\"color: #00d7ff; text-decoration-color: #00d7ff\">None</span>, <span style=\"color: #00af00; text-decoration-color: #00af00\">50</span>, <span style=\"color: #00af00; text-decoration-color: #00af00\">64</span>)         │        <span style=\"color: #00af00; text-decoration-color: #00af00\">16,896</span> │\n",
       "├─────────────────────────────────┼────────────────────────┼───────────────┤\n",
       "│ dropout_2 (<span style=\"color: #0087ff; text-decoration-color: #0087ff\">Dropout</span>)             │ (<span style=\"color: #00d7ff; text-decoration-color: #00d7ff\">None</span>, <span style=\"color: #00af00; text-decoration-color: #00af00\">50</span>, <span style=\"color: #00af00; text-decoration-color: #00af00\">64</span>)         │             <span style=\"color: #00af00; text-decoration-color: #00af00\">0</span> │\n",
       "├─────────────────────────────────┼────────────────────────┼───────────────┤\n",
       "│ lstm_3 (<span style=\"color: #0087ff; text-decoration-color: #0087ff\">LSTM</span>)                   │ (<span style=\"color: #00d7ff; text-decoration-color: #00d7ff\">None</span>, <span style=\"color: #00af00; text-decoration-color: #00af00\">64</span>)             │        <span style=\"color: #00af00; text-decoration-color: #00af00\">33,024</span> │\n",
       "├─────────────────────────────────┼────────────────────────┼───────────────┤\n",
       "│ dropout_3 (<span style=\"color: #0087ff; text-decoration-color: #0087ff\">Dropout</span>)             │ (<span style=\"color: #00d7ff; text-decoration-color: #00d7ff\">None</span>, <span style=\"color: #00af00; text-decoration-color: #00af00\">64</span>)             │             <span style=\"color: #00af00; text-decoration-color: #00af00\">0</span> │\n",
       "├─────────────────────────────────┼────────────────────────┼───────────────┤\n",
       "│ dense_1 (<span style=\"color: #0087ff; text-decoration-color: #0087ff\">Dense</span>)                 │ (<span style=\"color: #00d7ff; text-decoration-color: #00d7ff\">None</span>, <span style=\"color: #00af00; text-decoration-color: #00af00\">1</span>)              │            <span style=\"color: #00af00; text-decoration-color: #00af00\">65</span> │\n",
       "└─────────────────────────────────┴────────────────────────┴───────────────┘\n",
       "</pre>\n"
      ],
      "text/plain": [
       "┏━━━━━━━━━━━━━━━━━━━━━━━━━━━━━━━━━┳━━━━━━━━━━━━━━━━━━━━━━━━┳━━━━━━━━━━━━━━━┓\n",
       "┃\u001b[1m \u001b[0m\u001b[1mLayer (type)                   \u001b[0m\u001b[1m \u001b[0m┃\u001b[1m \u001b[0m\u001b[1mOutput Shape          \u001b[0m\u001b[1m \u001b[0m┃\u001b[1m \u001b[0m\u001b[1m      Param #\u001b[0m\u001b[1m \u001b[0m┃\n",
       "┡━━━━━━━━━━━━━━━━━━━━━━━━━━━━━━━━━╇━━━━━━━━━━━━━━━━━━━━━━━━╇━━━━━━━━━━━━━━━┩\n",
       "│ lstm_2 (\u001b[38;5;33mLSTM\u001b[0m)                   │ (\u001b[38;5;45mNone\u001b[0m, \u001b[38;5;34m50\u001b[0m, \u001b[38;5;34m64\u001b[0m)         │        \u001b[38;5;34m16,896\u001b[0m │\n",
       "├─────────────────────────────────┼────────────────────────┼───────────────┤\n",
       "│ dropout_2 (\u001b[38;5;33mDropout\u001b[0m)             │ (\u001b[38;5;45mNone\u001b[0m, \u001b[38;5;34m50\u001b[0m, \u001b[38;5;34m64\u001b[0m)         │             \u001b[38;5;34m0\u001b[0m │\n",
       "├─────────────────────────────────┼────────────────────────┼───────────────┤\n",
       "│ lstm_3 (\u001b[38;5;33mLSTM\u001b[0m)                   │ (\u001b[38;5;45mNone\u001b[0m, \u001b[38;5;34m64\u001b[0m)             │        \u001b[38;5;34m33,024\u001b[0m │\n",
       "├─────────────────────────────────┼────────────────────────┼───────────────┤\n",
       "│ dropout_3 (\u001b[38;5;33mDropout\u001b[0m)             │ (\u001b[38;5;45mNone\u001b[0m, \u001b[38;5;34m64\u001b[0m)             │             \u001b[38;5;34m0\u001b[0m │\n",
       "├─────────────────────────────────┼────────────────────────┼───────────────┤\n",
       "│ dense_1 (\u001b[38;5;33mDense\u001b[0m)                 │ (\u001b[38;5;45mNone\u001b[0m, \u001b[38;5;34m1\u001b[0m)              │            \u001b[38;5;34m65\u001b[0m │\n",
       "└─────────────────────────────────┴────────────────────────┴───────────────┘\n"
      ]
     },
     "metadata": {},
     "output_type": "display_data"
    },
    {
     "data": {
      "text/html": [
       "<pre style=\"white-space:pre;overflow-x:auto;line-height:normal;font-family:Menlo,'DejaVu Sans Mono',consolas,'Courier New',monospace\"><span style=\"font-weight: bold\"> Total params: </span><span style=\"color: #00af00; text-decoration-color: #00af00\">49,985</span> (195.25 KB)\n",
       "</pre>\n"
      ],
      "text/plain": [
       "\u001b[1m Total params: \u001b[0m\u001b[38;5;34m49,985\u001b[0m (195.25 KB)\n"
      ]
     },
     "metadata": {},
     "output_type": "display_data"
    },
    {
     "data": {
      "text/html": [
       "<pre style=\"white-space:pre;overflow-x:auto;line-height:normal;font-family:Menlo,'DejaVu Sans Mono',consolas,'Courier New',monospace\"><span style=\"font-weight: bold\"> Trainable params: </span><span style=\"color: #00af00; text-decoration-color: #00af00\">49,985</span> (195.25 KB)\n",
       "</pre>\n"
      ],
      "text/plain": [
       "\u001b[1m Trainable params: \u001b[0m\u001b[38;5;34m49,985\u001b[0m (195.25 KB)\n"
      ]
     },
     "metadata": {},
     "output_type": "display_data"
    },
    {
     "data": {
      "text/html": [
       "<pre style=\"white-space:pre;overflow-x:auto;line-height:normal;font-family:Menlo,'DejaVu Sans Mono',consolas,'Courier New',monospace\"><span style=\"font-weight: bold\"> Non-trainable params: </span><span style=\"color: #00af00; text-decoration-color: #00af00\">0</span> (0.00 B)\n",
       "</pre>\n"
      ],
      "text/plain": [
       "\u001b[1m Non-trainable params: \u001b[0m\u001b[38;5;34m0\u001b[0m (0.00 B)\n"
      ]
     },
     "metadata": {},
     "output_type": "display_data"
    },
    {
     "name": "stdout",
     "output_type": "stream",
     "text": [
      "Epoch 1/20\n",
      "\u001b[1m4/4\u001b[0m \u001b[32m━━━━━━━━━━━━━━━━━━━━\u001b[0m\u001b[37m\u001b[0m \u001b[1m4s\u001b[0m 191ms/step - loss: 0.0474 - val_loss: 0.0118\n",
      "Epoch 2/20\n",
      "\u001b[1m4/4\u001b[0m \u001b[32m━━━━━━━━━━━━━━━━━━━━\u001b[0m\u001b[37m\u001b[0m \u001b[1m0s\u001b[0m 56ms/step - loss: 0.0112 - val_loss: 0.0103\n",
      "Epoch 3/20\n",
      "\u001b[1m4/4\u001b[0m \u001b[32m━━━━━━━━━━━━━━━━━━━━\u001b[0m\u001b[37m\u001b[0m \u001b[1m0s\u001b[0m 34ms/step - loss: 0.0088 - val_loss: 0.0122\n",
      "Epoch 4/20\n",
      "\u001b[1m4/4\u001b[0m \u001b[32m━━━━━━━━━━━━━━━━━━━━\u001b[0m\u001b[37m\u001b[0m \u001b[1m0s\u001b[0m 34ms/step - loss: 0.0083 - val_loss: 0.0129\n",
      "Epoch 5/20\n",
      "\u001b[1m4/4\u001b[0m \u001b[32m━━━━━━━━━━━━━━━━━━━━\u001b[0m\u001b[37m\u001b[0m \u001b[1m0s\u001b[0m 38ms/step - loss: 0.0094 - val_loss: 0.0105\n",
      "Epoch 6/20\n",
      "\u001b[1m4/4\u001b[0m \u001b[32m━━━━━━━━━━━━━━━━━━━━\u001b[0m\u001b[37m\u001b[0m \u001b[1m0s\u001b[0m 53ms/step - loss: 0.0067 - val_loss: 0.0094\n",
      "Epoch 7/20\n",
      "\u001b[1m4/4\u001b[0m \u001b[32m━━━━━━━━━━━━━━━━━━━━\u001b[0m\u001b[37m\u001b[0m \u001b[1m0s\u001b[0m 40ms/step - loss: 0.0069 - val_loss: 0.0093\n",
      "Epoch 8/20\n",
      "\u001b[1m4/4\u001b[0m \u001b[32m━━━━━━━━━━━━━━━━━━━━\u001b[0m\u001b[37m\u001b[0m \u001b[1m0s\u001b[0m 45ms/step - loss: 0.0067 - val_loss: 0.0096\n",
      "Epoch 9/20\n",
      "\u001b[1m4/4\u001b[0m \u001b[32m━━━━━━━━━━━━━━━━━━━━\u001b[0m\u001b[37m\u001b[0m \u001b[1m0s\u001b[0m 37ms/step - loss: 0.0066 - val_loss: 0.0096\n",
      "Epoch 10/20\n",
      "\u001b[1m4/4\u001b[0m \u001b[32m━━━━━━━━━━━━━━━━━━━━\u001b[0m\u001b[37m\u001b[0m \u001b[1m0s\u001b[0m 39ms/step - loss: 0.0063 - val_loss: 0.0092\n",
      "Epoch 11/20\n",
      "\u001b[1m4/4\u001b[0m \u001b[32m━━━━━━━━━━━━━━━━━━━━\u001b[0m\u001b[37m\u001b[0m \u001b[1m0s\u001b[0m 39ms/step - loss: 0.0064 - val_loss: 0.0088\n",
      "Epoch 12/20\n",
      "\u001b[1m4/4\u001b[0m \u001b[32m━━━━━━━━━━━━━━━━━━━━\u001b[0m\u001b[37m\u001b[0m \u001b[1m0s\u001b[0m 48ms/step - loss: 0.0059 - val_loss: 0.0087\n",
      "Epoch 13/20\n",
      "\u001b[1m4/4\u001b[0m \u001b[32m━━━━━━━━━━━━━━━━━━━━\u001b[0m\u001b[37m\u001b[0m \u001b[1m0s\u001b[0m 41ms/step - loss: 0.0060 - val_loss: 0.0088\n",
      "Epoch 14/20\n",
      "\u001b[1m4/4\u001b[0m \u001b[32m━━━━━━━━━━━━━━━━━━━━\u001b[0m\u001b[37m\u001b[0m \u001b[1m0s\u001b[0m 42ms/step - loss: 0.0057 - val_loss: 0.0088\n",
      "Epoch 15/20\n",
      "\u001b[1m4/4\u001b[0m \u001b[32m━━━━━━━━━━━━━━━━━━━━\u001b[0m\u001b[37m\u001b[0m \u001b[1m0s\u001b[0m 41ms/step - loss: 0.0044 - val_loss: 0.0085\n",
      "Epoch 16/20\n",
      "\u001b[1m4/4\u001b[0m \u001b[32m━━━━━━━━━━━━━━━━━━━━\u001b[0m\u001b[37m\u001b[0m \u001b[1m0s\u001b[0m 38ms/step - loss: 0.0055 - val_loss: 0.0083\n",
      "Epoch 17/20\n",
      "\u001b[1m4/4\u001b[0m \u001b[32m━━━━━━━━━━━━━━━━━━━━\u001b[0m\u001b[37m\u001b[0m \u001b[1m0s\u001b[0m 38ms/step - loss: 0.0051 - val_loss: 0.0084\n",
      "Epoch 18/20\n",
      "\u001b[1m4/4\u001b[0m \u001b[32m━━━━━━━━━━━━━━━━━━━━\u001b[0m\u001b[37m\u001b[0m \u001b[1m0s\u001b[0m 39ms/step - loss: 0.0054 - val_loss: 0.0082\n",
      "Epoch 19/20\n",
      "\u001b[1m4/4\u001b[0m \u001b[32m━━━━━━━━━━━━━━━━━━━━\u001b[0m\u001b[37m\u001b[0m \u001b[1m0s\u001b[0m 46ms/step - loss: 0.0051 - val_loss: 0.0081\n",
      "Epoch 20/20\n",
      "\u001b[1m4/4\u001b[0m \u001b[32m━━━━━━━━━━━━━━━━━━━━\u001b[0m\u001b[37m\u001b[0m \u001b[1m0s\u001b[0m 49ms/step - loss: 0.0049 - val_loss: 0.0080\n"
     ]
    }
   ],
   "source": [
    "# Construindo o modelo LSTM\n",
    "model = Sequential()\n",
    "model.add(LSTM(64, return_sequences=True, input_shape=(x_train.shape[1], x_train.shape[2])))\n",
    "model.add(Dropout(0.2))\n",
    "model.add(LSTM(64))\n",
    "model.add(Dropout(0.2))\n",
    "model.add(Dense(1))  # Saída única para o preço de fechamento\n",
    "\n",
    "model.compile(optimizer='adam', loss='mean_squared_error')\n",
    "model.summary()\n",
    "\n",
    "# Treinando o modelo\n",
    "history = model.fit(x_train, y_train, epochs=20, batch_size=32, validation_data=(x_test, y_test))\n"
   ]
  },
  {
   "cell_type": "markdown",
   "metadata": {},
   "source": [
    "## 5. Avaliar modelo"
   ]
  },
  {
   "cell_type": "code",
   "execution_count": 14,
   "metadata": {},
   "outputs": [
    {
     "name": "stdout",
     "output_type": "stream",
     "text": [
      "\u001b[1m1/1\u001b[0m \u001b[32m━━━━━━━━━━━━━━━━━━━━\u001b[0m\u001b[37m\u001b[0m \u001b[1m0s\u001b[0m 73ms/step\n",
      "MAE: 0.06781867110105119, RMSE: 0.08957140720718083\n"
     ]
    }
   ],
   "source": [
    "# Fazendo previsões\n",
    "y_predict = model.predict(x_test)\n",
    "\n",
    "mae = mean_absolute_error(y_test, y_predict)\n",
    "rmse = np.sqrt(mean_squared_error(y_test, y_predict))\n",
    "\n",
    "print(f'MAE: {mae}, RMSE: {rmse}')"
   ]
  },
  {
   "cell_type": "code",
   "execution_count": 16,
   "metadata": {},
   "outputs": [
    {
     "data": {
      "image/png": "[encoded data removed]",
      "text/plain": [
       "<Figure size 1000x600 with 1 Axes>"
      ]
     },
     "metadata": {},
     "output_type": "display_data"
    }
   ],
   "source": [
    "y_predict = scaler.inverse_transform(y_predict)\n",
    "y_test = scaler.inverse_transform(y_test.reshape(-1, 1))\n",
    "\n",
    "# Plotar os valores reais e previstos\n",
    "plt.figure(figsize=(10, 6))\n",
    "plt.plot(y_test, label='Valores Reais', color='blue')\n",
    "plt.plot(y_predict, label='Previsões LSTM', color='red', linestyle='dashed')\n",
    "plt.title('Previsão de Preços de Ações com LSTM')\n",
    "plt.xlabel('Tempo')\n",
    "plt.ylabel('Preço de Fechamento')\n",
    "plt.legend()\n",
    "plt.show()\n"
   ]
  },
  {
   "cell_type": "code",
   "execution_count": null,
   "metadata": {},
   "outputs": [],
   "source": []
  }
 ],
 "metadata": {
  "kernelspec": {
   "display_name": "Python 3",
   "language": "python",
   "name": "python3"
  },
  "language_info": {
   "codemirror_mode": {
    "name": "ipython",
    "version": 3
   },
   "file_extension": ".py",
   "mimetype": "text/x-python",
   "name": "python",
   "nbconvert_exporter": "python",
   "pygments_lexer": "ipython3",
   "version": "3.12.3"
  }
 },
 "nbformat": 4,
 "nbformat_minor": 2
}
